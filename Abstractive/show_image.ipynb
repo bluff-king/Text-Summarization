{
 "cells": [
  {
   "cell_type": "code",
   "execution_count": 1,
   "metadata": {},
   "outputs": [
    {
     "ename": "SyntaxError",
     "evalue": "invalid decimal literal (2005343661.py, line 4)",
     "output_type": "error",
     "traceback": [
      "\u001b[0;36m  Cell \u001b[0;32mIn[1], line 4\u001b[0;36m\u001b[0m\n\u001b[0;31m    https://www.ijcaonline.org/archives/volume185/number15/patil-2023-ijca-922837.pdf\u001b[0m\n\u001b[0m                                                                                 ^\u001b[0m\n\u001b[0;31mSyntaxError\u001b[0m\u001b[0;31m:\u001b[0m invalid decimal literal\n"
     ]
    }
   ],
   "source": [
    "# https://towardsdatascience.com/text-summarization-using-deep-neural-networks-e7ee7521d804/  \n",
    "https://saadsohail5104.medium.com/understanding-padding-in-nlp-types-and-when-to-use-them-bacae6cae401\n",
    "https://github.com/rohithreddy024/Text-Summarizer-Pytorch/blob/master/data_util/data.py\n",
    "https://www.ijcaonline.org/archives/volume185/number15/patil-2023-ijca-922837.pdf\n",
    "https://www.kaggle.com/code/getanmolgupta01/text-summarization-lstm-encoder-decoder\n",
    "https://github.com/rohithreddy024/Text-Summarizer-Pytorch/blob/master/model.py\n",
    "https://arxiv.org/abs/1508.04025\n",
    "https://www.freecodecamp.org/news/what-is-rouge-and-how-it-works-for-evaluation-of-summaries-e059fb8ac840/#:~:text=ROUGE%20stands%20for%20Recall%2DOriented,as%20well%20as%20machine%20translations.&text=If%20we%20consider%20just%20the,and%20reference%20summary%20is%206."
   ]
  }
 ],
 "metadata": {
  "kernelspec": {
   "display_name": "base",
   "language": "python",
   "name": "python3"
  },
  "language_info": {
   "codemirror_mode": {
    "name": "ipython",
    "version": 3
   },
   "file_extension": ".py",
   "mimetype": "text/x-python",
   "name": "python",
   "nbconvert_exporter": "python",
   "pygments_lexer": "ipython3",
   "version": "3.12.2"
  }
 },
 "nbformat": 4,
 "nbformat_minor": 2
}
